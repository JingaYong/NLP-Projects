{
  "metadata": {
    "kernelspec": {
      "language": "python",
      "display_name": "Python 3",
      "name": "python3"
    },
    "language_info": {
      "name": "python",
      "version": "3.7.12",
      "mimetype": "text/x-python",
      "codemirror_mode": {
        "name": "ipython",
        "version": 3
      },
      "pygments_lexer": "ipython3",
      "nbconvert_exporter": "python",
      "file_extension": ".py"
    },
    "colab": {
      "name": "imdb-movie-reviews-classification.ipynb",
      "provenance": []
    }
  },
  "nbformat_minor": 0,
  "nbformat": 4,
  "cells": [
    {
      "cell_type": "markdown",
      "source": [
        "# IMDB Movie Reviews\n",
        "* Import Libraries"
      ],
      "metadata": {
        "id": "ztE7RV387pTq"
      }
    },
    {
      "cell_type": "code",
      "source": [
        "from google.colab import drive\n",
        "drive.mount('/content/drive')"
      ],
      "metadata": {
        "colab": {
          "base_uri": "https://localhost:8080/"
        },
        "id": "kfRNJJ1F7_pU",
        "outputId": "b78a0cf5-5295-421e-8f62-f554e73202c1"
      },
      "execution_count": 14,
      "outputs": [
        {
          "output_type": "stream",
          "name": "stdout",
          "text": [
            "Drive already mounted at /content/drive; to attempt to forcibly remount, call drive.mount(\"/content/drive\", force_remount=True).\n"
          ]
        }
      ]
    },
    {
      "cell_type": "code",
      "source": [
        "import pandas as pd\n",
        "import numpy as np\n",
        "from sklearn.metrics import accuracy_score, confusion_matrix\n",
        "import matplotlib.pyplot as plt\n",
        "from sklearn.feature_extraction.text import TfidfVectorizer\n",
        "from nltk.tokenize import word_tokenize, sent_tokenize\n",
        "from nltk.stem import PorterStemmer\n",
        "import nltk\n",
        "nltk.download('stopwords')\n",
        "from nltk.corpus import stopwords\n",
        "import re\n",
        "import seaborn as sns\n",
        "from sklearn.ensemble import RandomForestClassifier\n",
        "from sklearn.linear_model import LogisticRegression\n",
        "from sklearn.svm import SVC\n",
        "from sklearn.neural_network import MLPClassifier\n",
        "from sklearn.model_selection import GridSearchCV, RandomizedSearchCV, train_test_split as tt\n",
        "import warnings\n"
      ],
      "metadata": {
        "_uuid": "8f2839f25d086af736a60e9eeb907d3b93b6e0e5",
        "_cell_guid": "b1076dfc-b9ad-4769-8c92-a6c4dae69d19",
        "execution": {
          "iopub.status.busy": "2022-05-08T06:36:47.352343Z",
          "iopub.execute_input": "2022-05-08T06:36:47.352702Z",
          "iopub.status.idle": "2022-05-08T06:36:47.366176Z",
          "shell.execute_reply.started": "2022-05-08T06:36:47.352662Z",
          "shell.execute_reply": "2022-05-08T06:36:47.365051Z"
        },
        "trusted": true,
        "colab": {
          "base_uri": "https://localhost:8080/"
        },
        "id": "bYZ7dkY07pTu",
        "outputId": "9ee5a707-4ac8-4c91-934c-c0a129db0e4c"
      },
      "execution_count": 15,
      "outputs": [
        {
          "output_type": "stream",
          "name": "stdout",
          "text": [
            "[nltk_data] Downloading package stopwords to /root/nltk_data...\n",
            "[nltk_data]   Unzipping corpora/stopwords.zip.\n"
          ]
        }
      ]
    },
    {
      "cell_type": "markdown",
      "source": [
        "* Reading the dataset "
      ],
      "metadata": {
        "id": "QhSbOsmw7pTw"
      }
    },
    {
      "cell_type": "code",
      "source": [
        "df = pd.read_csv(\"/content/drive/MyDrive/IMDB Movie Reviews/IMDB Dataset.csv\")"
      ],
      "metadata": {
        "execution": {
          "iopub.status.busy": "2022-05-08T06:36:47.367664Z",
          "iopub.execute_input": "2022-05-08T06:36:47.367888Z",
          "iopub.status.idle": "2022-05-08T06:36:47.933054Z",
          "shell.execute_reply.started": "2022-05-08T06:36:47.367862Z",
          "shell.execute_reply": "2022-05-08T06:36:47.932008Z"
        },
        "trusted": true,
        "id": "CIp4IELp7pTw"
      },
      "execution_count": 16,
      "outputs": []
    },
    {
      "cell_type": "markdown",
      "source": [
        "* Details about the dataset"
      ],
      "metadata": {
        "id": "60swpHqa7pTx"
      }
    },
    {
      "cell_type": "code",
      "source": [
        "print(df.shape)\n",
        "print(df.info())\n",
        "print(df.describe())\n",
        "print(df[\"sentiment\"].value_counts())"
      ],
      "metadata": {
        "execution": {
          "iopub.status.busy": "2022-05-08T06:36:47.934883Z",
          "iopub.execute_input": "2022-05-08T06:36:47.935103Z",
          "iopub.status.idle": "2022-05-08T06:36:48.093671Z",
          "shell.execute_reply.started": "2022-05-08T06:36:47.935068Z",
          "shell.execute_reply": "2022-05-08T06:36:48.092373Z"
        },
        "trusted": true,
        "colab": {
          "base_uri": "https://localhost:8080/"
        },
        "id": "Nd_FjJjo7pTx",
        "outputId": "399c5112-c23d-4185-8384-881d495ab08b"
      },
      "execution_count": 17,
      "outputs": [
        {
          "output_type": "stream",
          "name": "stdout",
          "text": [
            "(50000, 2)\n",
            "<class 'pandas.core.frame.DataFrame'>\n",
            "RangeIndex: 50000 entries, 0 to 49999\n",
            "Data columns (total 2 columns):\n",
            " #   Column     Non-Null Count  Dtype \n",
            "---  ------     --------------  ----- \n",
            " 0   review     50000 non-null  object\n",
            " 1   sentiment  50000 non-null  object\n",
            "dtypes: object(2)\n",
            "memory usage: 781.4+ KB\n",
            "None\n",
            "                                                   review sentiment\n",
            "count                                               50000     50000\n",
            "unique                                              49582         2\n",
            "top     Loved today's show!!! It was a variety and not...  positive\n",
            "freq                                                    5     25000\n",
            "positive    25000\n",
            "negative    25000\n",
            "Name: sentiment, dtype: int64\n"
          ]
        }
      ]
    },
    {
      "cell_type": "markdown",
      "source": [
        "* Label Mapping"
      ],
      "metadata": {
        "id": "8443us897pTy"
      }
    },
    {
      "cell_type": "code",
      "source": [
        "ma = {1:\"positive\",0:\"negative\"}\n",
        "df.replace({\"sentiment\": {\"positive\": 1, \"negative\": 0}}, inplace=True)"
      ],
      "metadata": {
        "execution": {
          "iopub.status.busy": "2022-05-08T06:36:48.096013Z",
          "iopub.execute_input": "2022-05-08T06:36:48.096441Z",
          "iopub.status.idle": "2022-05-08T06:36:48.142378Z",
          "shell.execute_reply.started": "2022-05-08T06:36:48.096393Z",
          "shell.execute_reply": "2022-05-08T06:36:48.140817Z"
        },
        "trusted": true,
        "id": "c0mSOQke7pTy"
      },
      "execution_count": 18,
      "outputs": []
    },
    {
      "cell_type": "markdown",
      "source": [
        "* Removing Duplicates \n",
        "*Resizing the dataset (Reduced the size of the dataset in order to reduce time taken to train and test the model)"
      ],
      "metadata": {
        "id": "g0vfPFas7pTz"
      }
    },
    {
      "cell_type": "code",
      "source": [
        "df = df.drop_duplicates()\n",
        "positive = df[df[\"sentiment\"]==1]\n",
        "negative = df[df[\"sentiment\"]==0]\n",
        "print(df.shape)\n",
        "print(positive.shape)\n",
        "print(negative.shape)\n",
        "df = pd.concat([positive.iloc[:2500,],negative.iloc[:2500,]],axis=0)\n",
        "print(df.shape)\n",
        "print(df[\"sentiment\"].value_counts())"
      ],
      "metadata": {
        "execution": {
          "iopub.status.busy": "2022-05-08T06:36:48.144784Z",
          "iopub.execute_input": "2022-05-08T06:36:48.145988Z",
          "iopub.status.idle": "2022-05-08T06:36:48.364773Z",
          "shell.execute_reply.started": "2022-05-08T06:36:48.145925Z",
          "shell.execute_reply": "2022-05-08T06:36:48.362636Z"
        },
        "trusted": true,
        "colab": {
          "base_uri": "https://localhost:8080/"
        },
        "id": "wXCnt41T7pTz",
        "outputId": "e6322e40-9780-420e-83c1-f046d00679a3"
      },
      "execution_count": 19,
      "outputs": [
        {
          "output_type": "stream",
          "name": "stdout",
          "text": [
            "(49582, 2)\n",
            "(24884, 2)\n",
            "(24698, 2)\n",
            "(5000, 2)\n",
            "1    2500\n",
            "0    2500\n",
            "Name: sentiment, dtype: int64\n"
          ]
        }
      ]
    },
    {
      "cell_type": "markdown",
      "source": [
        "# Stemming the content using PorterStemmer"
      ],
      "metadata": {
        "id": "UMOC7doL7pTz"
      }
    },
    {
      "cell_type": "code",
      "source": [
        "# Stemming\n",
        "words = stopwords.words(\"english\")\n",
        "\n",
        "port_stem = PorterStemmer()\n",
        "\n",
        "def stemming(contents):\n",
        "    # Replacing anything that isn't an alphabet(text) with ' '\n",
        "    stemmed_contents = re.sub(r'[^a-zA-Z]',' ',contents)\n",
        "    # Converting entire text to lower\n",
        "    stemmed_contents = stemmed_contents.lower()\n",
        "    # Converting the text into a list of words\n",
        "    stemmed_contents = stemmed_contents.split()\n",
        "    # Removing stopwords\n",
        "    stemmed_contents = [port_stem.stem(word) for word in stemmed_contents if word not in words]\n",
        "    stemmed_contents = ' '.join(stemmed_contents)\n",
        "    return stemmed_contents\n",
        "\n",
        "\n",
        "df[\"review\"] = df[\"review\"].apply(stemming)"
      ],
      "metadata": {
        "execution": {
          "iopub.status.busy": "2022-05-08T06:36:48.366442Z",
          "iopub.execute_input": "2022-05-08T06:36:48.366709Z",
          "iopub.status.idle": "2022-05-08T06:37:17.706927Z",
          "shell.execute_reply.started": "2022-05-08T06:36:48.366676Z",
          "shell.execute_reply": "2022-05-08T06:37:17.705881Z"
        },
        "trusted": true,
        "id": "_nQ8Xllo7pT0"
      },
      "execution_count": 20,
      "outputs": []
    },
    {
      "cell_type": "markdown",
      "source": [
        "* Data Initialization"
      ],
      "metadata": {
        "id": "FjGjt5Tn7pT0"
      }
    },
    {
      "cell_type": "code",
      "source": [
        "m = df[\"review\"].values\n",
        "print(m)\n",
        "n = df[\"sentiment\"]\n",
        "print(n)"
      ],
      "metadata": {
        "execution": {
          "iopub.status.busy": "2022-05-08T06:37:17.708682Z",
          "iopub.execute_input": "2022-05-08T06:37:17.709137Z",
          "iopub.status.idle": "2022-05-08T06:37:17.718318Z",
          "shell.execute_reply.started": "2022-05-08T06:37:17.709097Z",
          "shell.execute_reply": "2022-05-08T06:37:17.716974Z"
        },
        "trusted": true,
        "colab": {
          "base_uri": "https://localhost:8080/"
        },
        "id": "K8Cl48i87pT0",
        "outputId": "69f70704-ff23-409c-f862-b295bf26a941"
      },
      "execution_count": 21,
      "outputs": [
        {
          "output_type": "stream",
          "name": "stdout",
          "text": [
            "['one review mention watch oz episod hook right exactli happen br br first thing struck oz brutal unflinch scene violenc set right word go trust show faint heart timid show pull punch regard drug sex violenc hardcor classic use word br br call oz nicknam given oswald maximum secur state penitentari focus mainli emerald citi experiment section prison cell glass front face inward privaci high agenda em citi home mani aryan muslim gangsta latino christian italian irish scuffl death stare dodgi deal shadi agreement never far away br br would say main appeal show due fact goe show dare forget pretti pictur paint mainstream audienc forget charm forget romanc oz mess around first episod ever saw struck nasti surreal say readi watch develop tast oz got accustom high level graphic violenc violenc injustic crook guard sold nickel inmat kill order get away well manner middl class inmat turn prison bitch due lack street skill prison experi watch oz may becom comfort uncomfort view that get touch darker side'\n",
            " 'wonder littl product br br film techniqu unassum old time bbc fashion give comfort sometim discomfort sens realism entir piec br br actor extrem well chosen michael sheen got polari voic pat truli see seamless edit guid refer william diari entri well worth watch terrificli written perform piec master product one great master comedi life br br realism realli come home littl thing fantasi guard rather use tradit dream techniqu remain solid disappear play knowledg sens particularli scene concern orton halliwel set particularli flat halliwel mural decor everi surfac terribl well done'\n",
            " 'thought wonder way spend time hot summer weekend sit air condit theater watch light heart comedi plot simplist dialogu witti charact likabl even well bread suspect serial killer may disappoint realiz match point risk addict thought proof woodi allen still fulli control style mani us grown love br br laugh one woodi comedi year dare say decad never impress scarlet johanson manag tone sexi imag jump right averag spirit young woman br br may crown jewel career wittier devil wear prada interest superman great comedi go see friend'\n",
            " ...\n",
            " 'bore movi audienc might stay chair fascin selfish charact mile berkowitz film maker actor storylin simpl divorc ten year hollywoodian non career author play quest love front camera first question true written came chanc answer ye portray berkowitz low averag human bee look self fiction love like one recommand read independ comic book chester brown joe matt br br besid felt quit disappoint hear much countri franc know american peopl usual say french arrog might true etc sure french whole world lot grief america much hate think like movi anyhow'\n",
            " 'tri sit bomb long ago disast act atroci absolut pathet action scene fell flat lead balloon mainli due fact reaction actor ring true supposedli modern rework hitchcock origin lifeboat think hictcock would spin circl grave thought abl suffer noth compel movi boast semi big name put effort charact know fair nobodi fault realli mean pretti sure script blew first explos lol possibl thing end improv goe along will spend least three day find unless least three day weekend horizon avoid stinker'\n",
            " 'joe amato might made notabl movi long prolif career prolif cours turn make cheap z grade movi itali big exploit boom late earli porno holocaust one least grant expect much movi titl thought consid back box descript might fun horror scene horni mutant cannib zombi turn zombi appear halfway movi everi turn get instead tawdri sex scene hardcor one imagin fine enjoy except f bs kind way laughabl dialog involv lobster cost mail order japan pari hot slim women play biologist zoologist particular sexual hang up let door unlock rape bi polar kind enjoy get gang bang br br lead island main attract guy earli spend absolut pathet forget ludicr amount time stare newcom radioact wasteland shot caribbean island reveal face like one guard jabba palac sweet potato main genit much dumber anyth relationship develop monster dark skin ladi inordin amount time escap sit blank face monster bring gift must racial motiv exploit move part filmmak monster rape kill white women end cours happi end use quot cours kind shock could kind legitim end br br bottom line might expect possibl bloodi horror movi plenti tacki cool look italian monster zombi devour human flesh anyth violenc film done shoe string log hit face immedi cut bloodi aftermath like aftermath tomato hit someon realli last part titl meant market sake yet even porno movi littl go except reason cast crew get paid vacat caribbean interview georg eastman suggest one quicki made island got penni bought schlocki camera work similar actor fill genitalia whole time wretch lip sync music like nino rota forc gun point make someth snappi bordello still piec celluloid dung could immens guilti pleasur']\n",
            "0       1\n",
            "1       1\n",
            "2       1\n",
            "4       1\n",
            "5       1\n",
            "       ..\n",
            "4946    0\n",
            "4947    0\n",
            "4948    0\n",
            "4949    0\n",
            "4950    0\n",
            "Name: sentiment, Length: 5000, dtype: int64\n"
          ]
        }
      ]
    },
    {
      "cell_type": "markdown",
      "source": [
        "# Vectorizing the data and Data Initialization\n"
      ],
      "metadata": {
        "id": "V_DsuCo07pT1"
      }
    },
    {
      "cell_type": "code",
      "source": [
        "vectorizer = TfidfVectorizer()\n",
        "m = vectorizer.fit_transform(m)\n",
        "print(m)"
      ],
      "metadata": {
        "execution": {
          "iopub.status.busy": "2022-05-08T06:37:17.720191Z",
          "iopub.execute_input": "2022-05-08T06:37:17.721124Z",
          "iopub.status.idle": "2022-05-08T06:37:18.245131Z",
          "shell.execute_reply.started": "2022-05-08T06:37:17.721074Z",
          "shell.execute_reply": "2022-05-08T06:37:18.244306Z"
        },
        "trusted": true,
        "colab": {
          "base_uri": "https://localhost:8080/"
        },
        "id": "8HpU2ico7pT1",
        "outputId": "5ab9fd1f-d3e8-4933-95ef-c8921a05ca35"
      },
      "execution_count": 22,
      "outputs": [
        {
          "output_type": "stream",
          "name": "stdout",
          "text": [
            "  (0, 20768)\t0.049854888661070955\n",
            "  (0, 5459)\t0.08161053649645977\n",
            "  (0, 23413)\t0.05030815306529995\n",
            "  (0, 22995)\t0.06895159969871603\n",
            "  (0, 24796)\t0.04466611201693401\n",
            "  (0, 24000)\t0.07425511188616897\n",
            "  (0, 4462)\t0.06828699578799698\n",
            "  (0, 1881)\t0.04105796037450682\n",
            "  (0, 14188)\t0.03997932820890231\n",
            "  (0, 7607)\t0.04836450302534791\n",
            "  (0, 20964)\t0.06251382545881469\n",
            "  (0, 22067)\t0.05838125836262803\n",
            "  (0, 12706)\t0.045865337586757815\n",
            "  (0, 2248)\t0.08292899330417172\n",
            "  (0, 23774)\t0.038438200655815685\n",
            "  (0, 4175)\t0.05590571335978201\n",
            "  (0, 14587)\t0.05483024992896447\n",
            "  (0, 13921)\t0.06122260210191008\n",
            "  (0, 25275)\t0.02716410684644975\n",
            "  (0, 9051)\t0.04987566410969833\n",
            "  (0, 16290)\t0.05254872068390733\n",
            "  (0, 12391)\t0.0418672129988242\n",
            "  (0, 11351)\t0.19335354017481626\n",
            "  (0, 15696)\t0.10175066545264179\n",
            "  (0, 21321)\t0.07425511188616897\n",
            "  :\t:\n",
            "  (4999, 167)\t0.02835232244169001\n",
            "  (4999, 17260)\t0.03869290157580522\n",
            "  (4999, 23198)\t0.061359656600609644\n",
            "  (4999, 8051)\t0.01638221149865178\n",
            "  (4999, 13290)\t0.02850569121690421\n",
            "  (4999, 23774)\t0.10003952705219286\n",
            "  (4999, 9051)\t0.06490337429716987\n",
            "  (4999, 16290)\t0.04558788804474124\n",
            "  (4999, 12391)\t0.03632129943593925\n",
            "  (4999, 9684)\t0.06001717097027709\n",
            "  (4999, 9402)\t0.03404025749411769\n",
            "  (4999, 5938)\t0.042830059532667185\n",
            "  (4999, 8422)\t0.0477604854367037\n",
            "  (4999, 13778)\t0.07755565232668393\n",
            "  (4999, 21800)\t0.062490024699912876\n",
            "  (4999, 11659)\t0.05535058893093604\n",
            "  (4999, 7700)\t0.11442931870920765\n",
            "  (4999, 24495)\t0.030551397754327983\n",
            "  (4999, 10002)\t0.0683775719035862\n",
            "  (4999, 20421)\t0.044572556276226506\n",
            "  (4999, 9271)\t0.0250726116313757\n",
            "  (4999, 24846)\t0.04641700362242448\n",
            "  (4999, 19971)\t0.05108187981189974\n",
            "  (4999, 2693)\t0.06693828577132395\n",
            "  (4999, 16202)\t0.067267828615911\n"
          ]
        }
      ]
    },
    {
      "cell_type": "markdown",
      "source": [
        "* Splitting data for training and testing"
      ],
      "metadata": {
        "id": "LyrsWeHU7pT1"
      }
    },
    {
      "cell_type": "code",
      "source": [
        "m_train, m_test, n_train, n_test = tt(m,n,train_size=0.78,stratify=n,random_state=0)"
      ],
      "metadata": {
        "execution": {
          "iopub.status.busy": "2022-05-08T06:37:18.246407Z",
          "iopub.execute_input": "2022-05-08T06:37:18.246774Z",
          "iopub.status.idle": "2022-05-08T06:37:18.258951Z",
          "shell.execute_reply.started": "2022-05-08T06:37:18.246745Z",
          "shell.execute_reply": "2022-05-08T06:37:18.257969Z"
        },
        "trusted": true,
        "id": "ys7ukEJD7pT1"
      },
      "execution_count": 23,
      "outputs": []
    },
    {
      "cell_type": "markdown",
      "source": [
        "* Different ML Models"
      ],
      "metadata": {
        "id": "73JT8dCY7pT1"
      }
    },
    {
      "cell_type": "code",
      "source": [
        "models = [RandomForestClassifier(random_state=0), SVC(random_state=0),\n",
        "          LogisticRegression(random_state=0), MLPClassifier(random_state=0)]"
      ],
      "metadata": {
        "execution": {
          "iopub.status.busy": "2022-05-08T06:37:18.261012Z",
          "iopub.execute_input": "2022-05-08T06:37:18.261820Z",
          "iopub.status.idle": "2022-05-08T06:37:18.270602Z",
          "shell.execute_reply.started": "2022-05-08T06:37:18.261766Z",
          "shell.execute_reply": "2022-05-08T06:37:18.269445Z"
        },
        "trusted": true,
        "id": "Ga00MRrt7pT2"
      },
      "execution_count": 24,
      "outputs": []
    },
    {
      "cell_type": "markdown",
      "source": [
        "# Model Training and Testing"
      ],
      "metadata": {
        "id": "QYdtmWQ87pT2"
      }
    },
    {
      "cell_type": "code",
      "source": [
        "models_train_pred = [[],[],[],[]]\n",
        "models_test_pred = [[],[],[],[]]\n",
        "\n",
        "def model_fitting():\n",
        "    for i in range(0,4):\n",
        "        clf = models[i]\n",
        "        clf.fit(m_train, n_train)\n",
        "        \n",
        "        # Results\n",
        "        clf_train_pred = clf.predict(m_train)\n",
        "        clf_test_pred = clf.predict(m_test)\n",
        "        models_train_pred[i] = clf_test_pred\n",
        "        models_test_pred[i] = clf_test_pred\n",
        "        # Accuracy Score\n",
        "        train_acc = accuracy_score(n_train, clf_train_pred)\n",
        "        print(\"Training Accuracy for\",models[i],\":\",train_acc)\n",
        "        test_acc = accuracy_score(n_test, clf_test_pred)\n",
        "        print(\"Testing Accuracy for\",models[i],\":\",test_acc)\n",
        "        print(\" \")\n",
        "        \n",
        "model_fitting()"
      ],
      "metadata": {
        "execution": {
          "iopub.status.busy": "2022-05-08T06:37:18.274792Z",
          "iopub.execute_input": "2022-05-08T06:37:18.275156Z",
          "iopub.status.idle": "2022-05-08T06:39:15.923331Z",
          "shell.execute_reply.started": "2022-05-08T06:37:18.275119Z",
          "shell.execute_reply": "2022-05-08T06:39:15.922753Z"
        },
        "trusted": true,
        "colab": {
          "base_uri": "https://localhost:8080/"
        },
        "id": "0ofeS_d07pT2",
        "outputId": "a9228d59-5a3e-4f39-e243-21dde9bc3649"
      },
      "execution_count": 25,
      "outputs": [
        {
          "output_type": "stream",
          "name": "stdout",
          "text": [
            "Training Accuracy for RandomForestClassifier(random_state=0) : 1.0\n",
            "Testing Accuracy for RandomForestClassifier(random_state=0) : 0.82\n",
            " \n",
            "Training Accuracy for SVC(random_state=0) : 0.997948717948718\n",
            "Testing Accuracy for SVC(random_state=0) : 0.8554545454545455\n",
            " \n",
            "Training Accuracy for LogisticRegression(random_state=0) : 0.9502564102564103\n",
            "Testing Accuracy for LogisticRegression(random_state=0) : 0.8590909090909091\n",
            " \n",
            "Training Accuracy for MLPClassifier(random_state=0) : 1.0\n",
            "Testing Accuracy for MLPClassifier(random_state=0) : 0.84\n",
            " \n"
          ]
        }
      ]
    },
    {
      "cell_type": "markdown",
      "source": [
        "# Confusion Matrices with heatmap"
      ],
      "metadata": {
        "id": "b4iRQrn47pT2"
      }
    },
    {
      "cell_type": "code",
      "source": [
        "\n",
        "def conf_mat():\n",
        "    for i in range(0,4):\n",
        "        cm = confusion_matrix(n_test,models_test_pred[i])\n",
        "        tn, fp, fn, tp  = confusion_matrix(n_test,models_test_pred[i]).ravel()\n",
        "        print(cm)\n",
        "        recall = tp/(tp+fn)\n",
        "        precision = tp/(tp+fp)\n",
        "        f1_score = 2*(precision*recall)/(precision+recall)\n",
        "        print(\"Recall for\",models[i],\":\",recall)\n",
        "        print(\"Precision for\",models[i],\":\",precision)\n",
        "        print(\"F1 Score for\",models[i],\":\",f1_score)\n",
        "        \n",
        "        # Heatmap\n",
        "        \n",
        "        plt.figure(figsize=(8, 8))\n",
        "        sns.set()\n",
        "        sns.heatmap(cm, cbar=True, square=True, annot=True, fmt='.2f', annot_kws={'size': 10}, cmap=\"Blues\")\n",
        "        plt.title(str(models[i])+\" Heatmap\")\n",
        "        plt.show()\n",
        "    \n",
        "conf_mat()\n",
        "\n"
      ],
      "metadata": {
        "execution": {
          "iopub.status.busy": "2022-05-08T06:39:15.924310Z",
          "iopub.execute_input": "2022-05-08T06:39:15.924644Z",
          "iopub.status.idle": "2022-05-08T06:39:17.111670Z",
          "shell.execute_reply.started": "2022-05-08T06:39:15.924613Z",
          "shell.execute_reply": "2022-05-08T06:39:17.110644Z"
        },
        "trusted": true,
        "colab": {
          "base_uri": "https://localhost:8080/",
          "height": 1000
        },
        "id": "tPBgW6s67pT3",
        "outputId": "6d3dd4da-06e4-465a-eb8a-df3decda7b43"
      },
      "execution_count": 26,
      "outputs": [
        {
          "output_type": "stream",
          "name": "stdout",
          "text": [
            "[[450 100]\n",
            " [ 98 452]]\n",
            "Recall for RandomForestClassifier(random_state=0) : 0.8218181818181818\n",
            "Precision for RandomForestClassifier(random_state=0) : 0.8188405797101449\n",
            "F1 Score for RandomForestClassifier(random_state=0) : 0.8203266787658801\n"
          ]
        },
        {
          "output_type": "display_data",
          "data": {
            "text/plain": [
              "<Figure size 576x576 with 2 Axes>"
            ],
            "image/png": "[encoded data removed]"
          },
          "metadata": {
            "needs_background": "light"
          }
        },
        {
          "output_type": "stream",
          "name": "stdout",
          "text": [
            "[[456  94]\n",
            " [ 65 485]]\n",
            "Recall for SVC(random_state=0) : 0.8818181818181818\n",
            "Precision for SVC(random_state=0) : 0.8376511226252159\n",
            "F1 Score for SVC(random_state=0) : 0.8591674047829938\n"
          ]
        },
        {
          "output_type": "display_data",
          "data": {
            "text/plain": [
              "<Figure size 576x576 with 2 Axes>"
            ],
            "image/png": "[encoded data removed]"
          },
          "metadata": {}
        },
        {
          "output_type": "stream",
          "name": "stdout",
          "text": [
            "[[460  90]\n",
            " [ 65 485]]\n",
            "Recall for LogisticRegression(random_state=0) : 0.8818181818181818\n",
            "Precision for LogisticRegression(random_state=0) : 0.8434782608695652\n",
            "F1 Score for LogisticRegression(random_state=0) : 0.8622222222222222\n"
          ]
        },
        {
          "output_type": "display_data",
          "data": {
            "text/plain": [
              "<Figure size 576x576 with 2 Axes>"
            ],
            "image/png": "[encoded data removed]"
          },
          "metadata": {}
        },
        {
          "output_type": "stream",
          "name": "stdout",
          "text": [
            "[[455  95]\n",
            " [ 81 469]]\n",
            "Recall for MLPClassifier(random_state=0) : 0.8527272727272728\n",
            "Precision for MLPClassifier(random_state=0) : 0.8315602836879432\n",
            "F1 Score for MLPClassifier(random_state=0) : 0.8420107719928187\n"
          ]
        },
        {
          "output_type": "display_data",
          "data": {
            "text/plain": [
              "<Figure size 576x576 with 2 Axes>"
            ],
            "image/png": "[encoded data removed]"
          },
          "metadata": {}
        }
      ]
    },
    {
      "cell_type": "markdown",
      "source": [
        "# Hyperparameter Tuning"
      ],
      "metadata": {
        "id": "QKUHzCa77pT3"
      }
    },
    {
      "cell_type": "code",
      "source": [
        "param_grid1 = {\"n_estimators\":[20,40,60,80],\"max_depth\":list(range(2,10))}\n",
        "param_grid2 = {\"kernel\":[\"linear\",\"rbf\",\"poly\",\"sigmoid\"],\"degree\":[2,3,4],\"C\":[0.5,1,10]}\n",
        "param_grid3 = {\"C\":[0.5,1,10]}\n",
        "param_grid4 = {\"hidden_layer_sizes\": [(10,30,10),(20,)],\"alpha\": [0.0001, 0.05],'max_iter':[500,1000],\n",
        "                \"learning_rate\": ['constant','adaptive'],\"activation\": ['relu','softmax','tanh']}\n",
        "\n",
        "p_grid = {0:param_grid1,1:param_grid2,2:param_grid3,3:param_grid4}\n",
        "gp_grid = [param_grid1,param_grid2,param_grid3,param_grid4]"
      ],
      "metadata": {
        "execution": {
          "iopub.status.busy": "2022-05-08T06:39:17.113634Z",
          "iopub.execute_input": "2022-05-08T06:39:17.114670Z",
          "iopub.status.idle": "2022-05-08T06:39:17.122517Z",
          "shell.execute_reply.started": "2022-05-08T06:39:17.114593Z",
          "shell.execute_reply": "2022-05-08T06:39:17.121219Z"
        },
        "trusted": true,
        "id": "CI-xel8I7pT3"
      },
      "execution_count": 27,
      "outputs": []
    },
    {
      "cell_type": "markdown",
      "source": [
        "* RandomizedSearchCV"
      ],
      "metadata": {
        "id": "EqIa3qUL7pT3"
      }
    },
    {
      "cell_type": "code",
      "source": [
        "def h_tuning():\n",
        "    for k in range(0,4):\n",
        "        rscv = RandomizedSearchCV(models[k],param_distributions=p_grid[k],cv=5,n_jobs=-1)\n",
        "        rscv.fit(m_train,n_train)\n",
        "        print(models[k],\"best parameters are:\",rscv.best_params_)\n",
        "        print(models[k],\"best score are:\",rscv.best_score_)\n",
        "#         gscv = GridSearchCV(models[k],param_grid=p_grid[k],cv=5,n_jobs=-1,verbose = 0,return_train_score=True)\n",
        "#         gscv.fit(m_train,n_train)\n",
        "#         print(models[k],\"best parameters are:\",gscv.best_params_)\n",
        "#         print(models[k],\"best score are:\",gscv.best_score_)\n",
        "\n",
        "h_tuning()"
      ],
      "metadata": {
        "execution": {
          "iopub.status.busy": "2022-05-08T06:39:17.124084Z",
          "iopub.execute_input": "2022-05-08T06:39:17.124373Z",
          "iopub.status.idle": "2022-05-08T06:46:31.181904Z",
          "shell.execute_reply.started": "2022-05-08T06:39:17.124341Z",
          "shell.execute_reply": "2022-05-08T06:46:31.178891Z"
        },
        "trusted": true,
        "colab": {
          "base_uri": "https://localhost:8080/"
        },
        "id": "hBjaD3ha7pT3",
        "outputId": "4effbe9a-8ce2-4d72-92b9-b8588208a66a"
      },
      "execution_count": 28,
      "outputs": [
        {
          "output_type": "stream",
          "name": "stdout",
          "text": [
            "RandomForestClassifier(random_state=0) best parameters are: {'n_estimators': 60, 'max_depth': 8}\n",
            "RandomForestClassifier(random_state=0) best score are: 0.8094871794871794\n",
            "SVC(random_state=0) best parameters are: {'kernel': 'rbf', 'degree': 3, 'C': 10}\n",
            "SVC(random_state=0) best score are: 0.8617948717948718\n",
            "LogisticRegression(random_state=0) best parameters are: {'C': 10}\n",
            "LogisticRegression(random_state=0) best score are: 0.8612820512820513\n",
            "MLPClassifier(random_state=0) best parameters are: {'max_iter': 1000, 'learning_rate': 'adaptive', 'hidden_layer_sizes': (20,), 'alpha': 0.05, 'activation': 'relu'}\n",
            "MLPClassifier(random_state=0) best score are: 0.8543589743589743\n"
          ]
        }
      ]
    },
    {
      "cell_type": "markdown",
      "source": [
        "* Prediction using SVC model(ml model with highest best score)"
      ],
      "metadata": {
        "id": "e_6XGcvH7pT3"
      }
    },
    {
      "cell_type": "code",
      "source": [
        "df1 = pd.read_csv(\"/content/drive/MyDrive/IMDB Movie Reviews/IMDB Dataset.csv\")\n",
        "inp = df1.iloc[6666,]\n",
        "\n",
        "# Final ML Model\n",
        "clf = SVC(kernel='rbf',degree=2,C=10,random_state=0)\n",
        "clf.fit(m_train, n_train)\n",
        "\n",
        "inp[\"review\"] = stemming(inp[\"review\"])\n",
        "ip=[inp[\"review\"]]\n",
        "# Vectorize \n",
        "ip = vectorizer.transform(ip)\n",
        "\n",
        "# Check Prediction\n",
        "actual_val = inp[\"sentiment\"]\n",
        "# print(\"Actual Value:\"actual_val)\n",
        "pred = clf.predict(ip)\n",
        "# print(\"Prediction:\"pred[0])\n",
        "if actual_val == ma[pred[0]]:\n",
        "    print(\"Accurate Prediction\")\n",
        "    print(\"Sentiment of the input review is\",ma[pred[0]])\n",
        "else:\n",
        "    print(\"Wrong Prediction\")\n"
      ],
      "metadata": {
        "execution": {
          "iopub.status.busy": "2022-05-08T06:46:31.185754Z",
          "iopub.execute_input": "2022-05-08T06:46:31.187041Z",
          "iopub.status.idle": "2022-05-08T06:46:44.435881Z",
          "shell.execute_reply.started": "2022-05-08T06:46:31.186993Z",
          "shell.execute_reply": "2022-05-08T06:46:44.434888Z"
        },
        "trusted": true,
        "colab": {
          "base_uri": "https://localhost:8080/"
        },
        "id": "ddWrinz47pT4",
        "outputId": "aaaa3102-73e1-4e2a-8f6b-ff3f8015b1c2"
      },
      "execution_count": 29,
      "outputs": [
        {
          "output_type": "stream",
          "name": "stdout",
          "text": [
            "Accurate Prediction\n",
            "Sentiment of the input review is positive\n"
          ]
        }
      ]
    }
  ]
}